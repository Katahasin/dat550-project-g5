{
 "cells": [
  {
   "cell_type": "markdown",
   "metadata": {},
   "source": [
    "### Notebook for classsifying using a Concolutional Neural Network (CNN)."
   ]
  },
  {
   "cell_type": "markdown",
   "metadata": {},
   "source": [
    "This notebook is excpecting the data to be numeric. A method of ensuring this to first use Pre_Processing_USE-4.ipynb."
   ]
  },
  {
   "cell_type": "markdown",
   "metadata": {},
   "source": [
    " Cells are executed in the order in which they appear in the notebook."
   ]
  },
  {
   "cell_type": "code",
   "execution_count": 3,
   "metadata": {},
   "outputs": [],
   "source": [
    "# Import libraries\n",
    "import tensorflow as tf\n",
    "from keras.models import Sequential\n",
    "from keras.layers import Dense, Flatten, Conv2D, MaxPooling2D, ZeroPadding2D, Dropout\n",
    "from sklearn.model_selection import train_test_split\n",
    "from sklearn.preprocessing import StandardScaler\n",
    "import numpy as np\n",
    "import pandas as pd\n",
    "import datetime\n",
    "import tensorboard\n",
    "\n",
    "import cv2\n",
    "\n",
    "from img_tools import reshape_rows"
   ]
  },
  {
   "cell_type": "markdown",
   "metadata": {},
   "source": [
    "Import numerical feature and label data."
   ]
  },
  {
   "cell_type": "code",
   "execution_count": 4,
   "metadata": {},
   "outputs": [],
   "source": [
    "# Load dataset\n",
    "X = pd.read_csv('X_numeric.csv', sep=',')\n",
    "y = pd.read_csv('y_numeric.csv', sep=',')"
   ]
  },
  {
   "cell_type": "code",
   "execution_count": 5,
   "metadata": {},
   "outputs": [
    {
     "data": {
      "text/plain": [
       "(656, 71)"
      ]
     },
     "execution_count": 5,
     "metadata": {},
     "output_type": "execute_result"
    }
   ],
   "source": [
    "# Check the number of features in case it could be better to insert a column of ones to get a better shape image\n",
    "X.shape"
   ]
  },
  {
   "cell_type": "code",
   "execution_count": 9,
   "metadata": {},
   "outputs": [
    {
     "name": "stdout",
     "output_type": "stream",
     "text": [
      "Possible dimensions: [14.0, 5]\n",
      "Possible dimensions: [10.0, 7]\n",
      "Possible dimensions: [7.0, 10]\n",
      "Possible dimensions: [5.0, 14]\n",
      "Possible dimensions: [2.0, 35]\n",
      "Possible dimensions: [1.0, 70]\n"
     ]
    }
   ],
   "source": [
    "# Find possible dimensions of the image\n",
    "for i in range(X.shape[1]):\n",
    "    if X.shape[1]%(i+1) == 0 and i>2: # i>2 because convolutional layers are not possible with less than 3x3 filters\n",
    "        print(f'Possible dimensions: {[X.shape[1]/(i+1), i+1]}')"
   ]
  },
  {
   "cell_type": "code",
   "execution_count": 7,
   "metadata": {},
   "outputs": [
    {
     "data": {
      "text/plain": [
       "(656, 1)"
      ]
     },
     "execution_count": 7,
     "metadata": {},
     "output_type": "execute_result"
    }
   ],
   "source": [
    "# Check the shape of the labels in case the first row is the index\n",
    "y.shape"
   ]
  },
  {
   "cell_type": "code",
   "execution_count": 8,
   "metadata": {},
   "outputs": [],
   "source": [
    "# If the index has been added to the first column, run this cell \n",
    "X=X.iloc[:,1:] # Remove the index if it is the first column and it would help the shape. Consider replacing with a column of ones.\n",
    "#y=y.iloc[:,1:]"
   ]
  },
  {
   "cell_type": "markdown",
   "metadata": {},
   "source": [
    "Split to train and test sets. Save them as np.array and make sure they are float. Perform scaling."
   ]
  },
  {
   "cell_type": "code",
   "execution_count": 10,
   "metadata": {},
   "outputs": [],
   "source": [
    "# Split the data into training and test sets\n",
    "X_train, X_test, y_train, y_test = train_test_split(X, y, test_size=0.2, random_state=42)"
   ]
  },
  {
   "cell_type": "code",
   "execution_count": 11,
   "metadata": {},
   "outputs": [],
   "source": [
    "# Save to array and make sure dtype is float or else the scaling might not work.\n",
    "X_train=np.asarray(X_train).astype(np.float_)\n",
    "X_test=np.asarray(X_test).astype(np.float_)\n",
    "\n",
    "y_train=np.asarray(y_train).astype(np.float_)\n",
    "y_test=np.asarray(y_test).astype(np.float_)"
   ]
  },
  {
   "cell_type": "code",
   "execution_count": 12,
   "metadata": {},
   "outputs": [],
   "source": [
    "# Scale the features\n",
    "scaler = StandardScaler().fit(X_train)\n",
    "X_train = scaler.transform(X_train)\n",
    "X_test = scaler.transform(X_test)"
   ]
  },
  {
   "cell_type": "markdown",
   "metadata": {},
   "source": [
    "Reshape the data to be suitable for the CNN. Filter with Gaussian filter and perform histogram stretching."
   ]
  },
  {
   "cell_type": "code",
   "execution_count": 14,
   "metadata": {},
   "outputs": [],
   "source": [
    "# Find a filter and edge strategy\n",
    "filtermask = cv2.getGaussianKernel(3,1)\n",
    "borderType = cv2.BORDER_DEFAULT\n",
    "\n",
    "# Remember to change the dimensions/shape to fit the data!!!\n",
    "X_train = reshape_rows(X_train, filtermask, borderType, (7,10))\n",
    "X_test = reshape_rows(X_test, filtermask, borderType, (7,10))"
   ]
  },
  {
   "cell_type": "markdown",
   "metadata": {},
   "source": [
    "Design the model. Train and evaluate."
   ]
  },
  {
   "cell_type": "code",
   "execution_count": 17,
   "metadata": {},
   "outputs": [
    {
     "name": "stdout",
     "output_type": "stream",
     "text": [
      "Model: \"sequential_1\"\n",
      "_________________________________________________________________\n",
      " Layer (type)                Output Shape              Param #   \n",
      "=================================================================\n",
      " conv2d_1 (Conv2D)           (None, 5, 8, 64)          640       \n",
      "                                                                 \n",
      " flatten_1 (Flatten)         (None, 2560)              0         \n",
      "                                                                 \n",
      " dense_2 (Dense)             (None, 12)                30732     \n",
      "                                                                 \n",
      " dense_3 (Dense)             (None, 1)                 13        \n",
      "                                                                 \n",
      "=================================================================\n",
      "Total params: 31,385\n",
      "Trainable params: 31,385\n",
      "Non-trainable params: 0\n",
      "_________________________________________________________________\n"
     ]
    }
   ],
   "source": [
    "# Basic CNN model. Uncomment to add some layers, but it wont increase the accuracy. Remember to change input_shape!!!\n",
    "model = Sequential()\n",
    "model.add(Conv2D(64, (3, 3), activation='relu', input_shape=(7, 10, 1))) # 32 filters, 3x3 kernel, remember to set input_shape\n",
    "#model.add(Conv2D(64, (3, 3), activation='relu'))\n",
    "#model.add(MaxPooling2D(pool_size=(2, 2)))\n",
    "#model.add(Dropout(0.25))\n",
    "#model.add(ZeroPadding2D((1,1)))\n",
    "#model.add(Conv2D(128, (3, 3), activation='relu'))\n",
    "#model.add(MaxPooling2D(pool_size=(2, 2)))\n",
    "model.add(Flatten())\n",
    "model.add(Dense(12, activation='relu'))\n",
    "model.add(Dense(1, activation='sigmoid'))\n",
    "model.compile(optimizer='adam', loss='binary_crossentropy', metrics=['accuracy'])\n",
    "model.summary()"
   ]
  },
  {
   "cell_type": "code",
   "execution_count": 18,
   "metadata": {},
   "outputs": [
    {
     "name": "stdout",
     "output_type": "stream",
     "text": [
      "X_train shape: (524, 7, 10), y_train shape: (524, 1), X_test shape: (132, 7, 10), y_test shape: (132, 1)\n",
      "Epoch 1/5\n",
      "17/17 [==============================] - 1s 15ms/step - loss: 8.1301 - accuracy: 0.6279 - val_loss: 1.9342 - val_accuracy: 0.6212\n",
      "Epoch 2/5\n",
      "17/17 [==============================] - 0s 5ms/step - loss: 1.6750 - accuracy: 0.5897 - val_loss: 1.1247 - val_accuracy: 0.6894\n",
      "Epoch 3/5\n",
      "17/17 [==============================] - 0s 5ms/step - loss: 0.9018 - accuracy: 0.6698 - val_loss: 0.9337 - val_accuracy: 0.6439\n",
      "Epoch 4/5\n",
      "17/17 [==============================] - 0s 5ms/step - loss: 0.6746 - accuracy: 0.7042 - val_loss: 0.9264 - val_accuracy: 0.6742\n",
      "Epoch 5/5\n",
      "17/17 [==============================] - 0s 6ms/step - loss: 0.6358 - accuracy: 0.7309 - val_loss: 0.8342 - val_accuracy: 0.6515\n"
     ]
    },
    {
     "data": {
      "text/plain": [
       "<keras.callbacks.History at 0x195500416d0>"
      ]
     },
     "execution_count": 18,
     "metadata": {},
     "output_type": "execute_result"
    }
   ],
   "source": [
    "# Check if the shapes are correct\n",
    "print(f'X_train shape: {X_train.shape}, y_train shape: {y_train.shape}, X_test shape: {X_test.shape}, y_test shape: {y_test.shape}')\n",
    "\n",
    "# Log experiment with tensorboard and train the model. Change epochs and batch_size to see how it affects the accuracy.\n",
    "log_dir = \"logs/fit/cnn5/\" + datetime.datetime.now().strftime(\"%Y%m%d-%H%M%S\")\n",
    "tensorboard_callback = tf.keras.callbacks.TensorBoard(log_dir=log_dir, histogram_freq=1)\n",
    "model.fit(X_train, y_train, epochs=5, batch_size=32, validation_data=(X_test, y_test)) "
   ]
  },
  {
   "cell_type": "code",
   "execution_count": 19,
   "metadata": {},
   "outputs": [
    {
     "name": "stdout",
     "output_type": "stream",
     "text": [
      "5/5 [==============================] - 0s 2ms/step - loss: 0.8342 - accuracy: 0.6515\n",
      "Results from test set: loss: 0.8342361450195312 - accuracy: 0.6515151262283325\n"
     ]
    }
   ],
   "source": [
    "# Evaluate the model on the test set\n",
    "test_loss, test_accuracy = model.evaluate(X_test, y_test,verbose=1)\n",
    "print(f'Results from test set: loss: {test_loss} - accuracy: {test_accuracy}')"
   ]
  },
  {
   "cell_type": "code",
   "execution_count": null,
   "metadata": {},
   "outputs": [],
   "source": [
    "# Check the results in tensorboard\n",
    "%tensorboard --logdir logs/fit"
   ]
  }
 ],
 "metadata": {
  "interpreter": {
   "hash": "a48d9d053714610228810daee29d7e6495965b4559be13f38b312ece0e7deaf4"
  },
  "kernelspec": {
   "display_name": "Python 3.9.7 ('base')",
   "language": "python",
   "name": "python3"
  },
  "language_info": {
   "codemirror_mode": {
    "name": "ipython",
    "version": 3
   },
   "file_extension": ".py",
   "mimetype": "text/x-python",
   "name": "python",
   "nbconvert_exporter": "python",
   "pygments_lexer": "ipython3",
   "version": "3.9.7"
  },
  "orig_nbformat": 4
 },
 "nbformat": 4,
 "nbformat_minor": 2
}
