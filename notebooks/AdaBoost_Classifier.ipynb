{
 "cells": [
  {
   "cell_type": "markdown",
   "metadata": {},
   "source": [
    "### Notebook for classsifying using AdaBoost."
   ]
  },
  {
   "cell_type": "markdown",
   "metadata": {},
   "source": [
    "This notebook is excpecting the data to be numeric. A method of ensuring this to first use Pre_Processing_USE-4.ipynb."
   ]
  },
  {
   "cell_type": "markdown",
   "metadata": {},
   "source": [
    " Cells are executed in the order in which they appear in the notebook."
   ]
  },
  {
   "cell_type": "code",
   "execution_count": 1,
   "metadata": {},
   "outputs": [],
   "source": [
    "# Import libraries\n",
    "\n",
    "from sklearn.preprocessing import StandardScaler\n",
    "from sklearn.ensemble import AdaBoostClassifier\n",
    "from sklearn.model_selection import train_test_split\n",
    "from sklearn.model_selection import cross_val_score\n",
    "import numpy as np\n",
    "import pandas as pd\n",
    "\n",
    "import sigopt # comment out if not using SigOpt"
   ]
  },
  {
   "cell_type": "code",
   "execution_count": 8,
   "metadata": {},
   "outputs": [],
   "source": [
    "# Sigopt stuff, not really needed. If you don't have a Sigopt account, you should get one.\n",
    "from sigopt import Connection\n",
    "\n",
    "# put your token here \n",
    "api_token = \"Put your token here\"\n",
    " \n",
    "conn = Connection(client_token=api_token)"
   ]
  },
  {
   "cell_type": "markdown",
   "metadata": {},
   "source": [
    "Import numerical feature and label data."
   ]
  },
  {
   "cell_type": "code",
   "execution_count": 12,
   "metadata": {},
   "outputs": [],
   "source": [
    "# Load dataset\n",
    "X = pd.read_csv('X_numeric.csv', sep=',', header=None)\n",
    "y = pd.read_csv('y_numeric.csv', sep=',', header=None)\n",
    "y = np.ravel(y)"
   ]
  },
  {
   "cell_type": "code",
   "execution_count": 13,
   "metadata": {},
   "outputs": [
    {
     "data": {
      "text/html": [
       "<div>\n",
       "<style scoped>\n",
       "    .dataframe tbody tr th:only-of-type {\n",
       "        vertical-align: middle;\n",
       "    }\n",
       "\n",
       "    .dataframe tbody tr th {\n",
       "        vertical-align: top;\n",
       "    }\n",
       "\n",
       "    .dataframe thead th {\n",
       "        text-align: right;\n",
       "    }\n",
       "</style>\n",
       "<table border=\"1\" class=\"dataframe\">\n",
       "  <thead>\n",
       "    <tr style=\"text-align: right;\">\n",
       "      <th></th>\n",
       "      <th>0</th>\n",
       "      <th>1</th>\n",
       "      <th>2</th>\n",
       "      <th>3</th>\n",
       "      <th>4</th>\n",
       "      <th>5</th>\n",
       "      <th>6</th>\n",
       "      <th>7</th>\n",
       "      <th>8</th>\n",
       "      <th>9</th>\n",
       "      <th>...</th>\n",
       "      <th>61</th>\n",
       "      <th>62</th>\n",
       "      <th>63</th>\n",
       "      <th>64</th>\n",
       "      <th>65</th>\n",
       "      <th>66</th>\n",
       "      <th>67</th>\n",
       "      <th>68</th>\n",
       "      <th>69</th>\n",
       "      <th>70</th>\n",
       "    </tr>\n",
       "  </thead>\n",
       "  <tbody>\n",
       "    <tr>\n",
       "      <th>0</th>\n",
       "      <td>1.480624e+10</td>\n",
       "      <td>1.480624e+10</td>\n",
       "      <td>1.480624e+10</td>\n",
       "      <td>16.178530</td>\n",
       "      <td>12.164207</td>\n",
       "      <td>1.753315</td>\n",
       "      <td>-5.300097</td>\n",
       "      <td>1.016841</td>\n",
       "      <td>8.118670</td>\n",
       "      <td>6.819417</td>\n",
       "      <td>...</td>\n",
       "      <td>11.372132</td>\n",
       "      <td>7.036551</td>\n",
       "      <td>-2.552680</td>\n",
       "      <td>-54.153320</td>\n",
       "      <td>32.803783</td>\n",
       "      <td>16.710754</td>\n",
       "      <td>-24.062065</td>\n",
       "      <td>6.590991</td>\n",
       "      <td>-0.729850</td>\n",
       "      <td>6.655100</td>\n",
       "    </tr>\n",
       "    <tr>\n",
       "      <th>1</th>\n",
       "      <td>4.475470e+11</td>\n",
       "      <td>4.475470e+11</td>\n",
       "      <td>4.475470e+11</td>\n",
       "      <td>20.004223</td>\n",
       "      <td>11.334753</td>\n",
       "      <td>-2.820019</td>\n",
       "      <td>-7.355494</td>\n",
       "      <td>-1.181901</td>\n",
       "      <td>6.805092</td>\n",
       "      <td>0.625156</td>\n",
       "      <td>...</td>\n",
       "      <td>21.825056</td>\n",
       "      <td>13.261285</td>\n",
       "      <td>-17.120144</td>\n",
       "      <td>4.034127</td>\n",
       "      <td>-10.328978</td>\n",
       "      <td>-12.635922</td>\n",
       "      <td>-22.477568</td>\n",
       "      <td>3.983698</td>\n",
       "      <td>-0.710531</td>\n",
       "      <td>4.778454</td>\n",
       "    </tr>\n",
       "    <tr>\n",
       "      <th>2</th>\n",
       "      <td>4.536947e+09</td>\n",
       "      <td>4.536947e+09</td>\n",
       "      <td>4.536947e+09</td>\n",
       "      <td>19.789394</td>\n",
       "      <td>11.128526</td>\n",
       "      <td>-5.510750</td>\n",
       "      <td>-8.971125</td>\n",
       "      <td>4.214148</td>\n",
       "      <td>-21.717592</td>\n",
       "      <td>6.829502</td>\n",
       "      <td>...</td>\n",
       "      <td>-4.366057</td>\n",
       "      <td>6.523605</td>\n",
       "      <td>-5.956306</td>\n",
       "      <td>8.049953</td>\n",
       "      <td>-8.431773</td>\n",
       "      <td>-1.328702</td>\n",
       "      <td>19.821604</td>\n",
       "      <td>2.230384</td>\n",
       "      <td>-2.804008</td>\n",
       "      <td>4.660541</td>\n",
       "    </tr>\n",
       "    <tr>\n",
       "      <th>3</th>\n",
       "      <td>3.897625e+10</td>\n",
       "      <td>3.897625e+10</td>\n",
       "      <td>3.897625e+10</td>\n",
       "      <td>19.559141</td>\n",
       "      <td>11.153430</td>\n",
       "      <td>-7.129503</td>\n",
       "      <td>14.209820</td>\n",
       "      <td>4.214219</td>\n",
       "      <td>-21.717434</td>\n",
       "      <td>-10.894494</td>\n",
       "      <td>...</td>\n",
       "      <td>12.437857</td>\n",
       "      <td>30.452587</td>\n",
       "      <td>15.085895</td>\n",
       "      <td>-17.211315</td>\n",
       "      <td>-9.998230</td>\n",
       "      <td>-9.034165</td>\n",
       "      <td>21.270443</td>\n",
       "      <td>-3.827162</td>\n",
       "      <td>-2.322451</td>\n",
       "      <td>4.214811</td>\n",
       "    </tr>\n",
       "    <tr>\n",
       "      <th>4</th>\n",
       "      <td>1.425274e+10</td>\n",
       "      <td>1.425274e+10</td>\n",
       "      <td>1.425274e+10</td>\n",
       "      <td>19.156839</td>\n",
       "      <td>11.093230</td>\n",
       "      <td>-4.028421</td>\n",
       "      <td>3.910608</td>\n",
       "      <td>0.271392</td>\n",
       "      <td>7.674269</td>\n",
       "      <td>3.828856</td>\n",
       "      <td>...</td>\n",
       "      <td>12.387394</td>\n",
       "      <td>15.096603</td>\n",
       "      <td>4.221771</td>\n",
       "      <td>-12.505415</td>\n",
       "      <td>6.967276</td>\n",
       "      <td>-8.013271</td>\n",
       "      <td>13.346799</td>\n",
       "      <td>3.252636</td>\n",
       "      <td>1.021878</td>\n",
       "      <td>7.317034</td>\n",
       "    </tr>\n",
       "  </tbody>\n",
       "</table>\n",
       "<p>5 rows × 71 columns</p>\n",
       "</div>"
      ],
      "text/plain": [
       "             0             1             2          3          4         5   \\\n",
       "0  1.480624e+10  1.480624e+10  1.480624e+10  16.178530  12.164207  1.753315   \n",
       "1  4.475470e+11  4.475470e+11  4.475470e+11  20.004223  11.334753 -2.820019   \n",
       "2  4.536947e+09  4.536947e+09  4.536947e+09  19.789394  11.128526 -5.510750   \n",
       "3  3.897625e+10  3.897625e+10  3.897625e+10  19.559141  11.153430 -7.129503   \n",
       "4  1.425274e+10  1.425274e+10  1.425274e+10  19.156839  11.093230 -4.028421   \n",
       "\n",
       "          6         7          8          9   ...         61         62  \\\n",
       "0  -5.300097  1.016841   8.118670   6.819417  ...  11.372132   7.036551   \n",
       "1  -7.355494 -1.181901   6.805092   0.625156  ...  21.825056  13.261285   \n",
       "2  -8.971125  4.214148 -21.717592   6.829502  ...  -4.366057   6.523605   \n",
       "3  14.209820  4.214219 -21.717434 -10.894494  ...  12.437857  30.452587   \n",
       "4   3.910608  0.271392   7.674269   3.828856  ...  12.387394  15.096603   \n",
       "\n",
       "          63         64         65         66         67        68        69  \\\n",
       "0  -2.552680 -54.153320  32.803783  16.710754 -24.062065  6.590991 -0.729850   \n",
       "1 -17.120144   4.034127 -10.328978 -12.635922 -22.477568  3.983698 -0.710531   \n",
       "2  -5.956306   8.049953  -8.431773  -1.328702  19.821604  2.230384 -2.804008   \n",
       "3  15.085895 -17.211315  -9.998230  -9.034165  21.270443 -3.827162 -2.322451   \n",
       "4   4.221771 -12.505415   6.967276  -8.013271  13.346799  3.252636  1.021878   \n",
       "\n",
       "         70  \n",
       "0  6.655100  \n",
       "1  4.778454  \n",
       "2  4.660541  \n",
       "3  4.214811  \n",
       "4  7.317034  \n",
       "\n",
       "[5 rows x 71 columns]"
      ]
     },
     "execution_count": 13,
     "metadata": {},
     "output_type": "execute_result"
    }
   ],
   "source": [
    "# Check the data in case the first row is the index \n",
    "X.head()"
   ]
  },
  {
   "cell_type": "code",
   "execution_count": 14,
   "metadata": {},
   "outputs": [
    {
     "data": {
      "text/plain": [
       "(657,)"
      ]
     },
     "execution_count": 14,
     "metadata": {},
     "output_type": "execute_result"
    }
   ],
   "source": [
    "# Check the shape of the labels in case the first row is the index\n",
    "y.shape"
   ]
  },
  {
   "cell_type": "code",
   "execution_count": null,
   "metadata": {},
   "outputs": [],
   "source": [
    "# If the index has been added to the first column, run this cell \n",
    "X=X.iloc[:,1:]\n",
    "y=y.iloc[:,1:]"
   ]
  },
  {
   "cell_type": "markdown",
   "metadata": {},
   "source": [
    "Split to train and test sets. Save them as np.array and make sure they are float. Perform scaling."
   ]
  },
  {
   "cell_type": "code",
   "execution_count": 15,
   "metadata": {},
   "outputs": [],
   "source": [
    "# Split the data into training and test sets\n",
    "X_train, X_test, y_train, y_test = train_test_split(X, y, test_size=0.2, random_state=42)"
   ]
  },
  {
   "cell_type": "code",
   "execution_count": 16,
   "metadata": {},
   "outputs": [],
   "source": [
    "# Save to array and make sure dtype is float or else the scaling might not work.\n",
    "X_train=np.asarray(X_train).astype(np.float_)\n",
    "X_test=np.asarray(X_test).astype(np.float_)\n",
    "\n",
    "y_train=np.asarray(y_train).astype(np.float_)\n",
    "y_test=np.asarray(y_test).astype(np.float_)"
   ]
  },
  {
   "cell_type": "code",
   "execution_count": 17,
   "metadata": {},
   "outputs": [],
   "source": [
    "# Scale the features\n",
    "scaler = StandardScaler().fit(X_train)\n",
    "X_train = scaler.transform(X_train)\n",
    "X_test = scaler.transform(X_test)"
   ]
  },
  {
   "cell_type": "markdown",
   "metadata": {},
   "source": [
    "Perform AdaBoost Classificaiton. In case you want to perform it without SigOpt, skip the next two cells."
   ]
  },
  {
   "cell_type": "code",
   "execution_count": 9,
   "metadata": {},
   "outputs": [
    {
     "name": "stdout",
     "output_type": "stream",
     "text": [
      "Explore your experiment: https://app.sigopt.com/experiment/515103/analysis\n"
     ]
    }
   ],
   "source": [
    "# This is sigopt part where you define the parameters and their ranges\n",
    "def create_model(assignments):\n",
    "    model = AdaBoostClassifier(\n",
    "                                n_estimators         = assignments['n_estimators'],\n",
    "                                learning_rate        = assignments['learning_rate']\n",
    "                            )\n",
    "    return model\n",
    "\n",
    "def evaluate_model(assignments):\n",
    "    model = create_model(assignments)\n",
    "    model.fit(X_train, y_train)\n",
    "    \n",
    "    return cross_val_score(model, X_train, y_train, cv=5).mean()\n",
    "\n",
    "experiment = conn.experiments().create(\n",
    "    \n",
    "    name=\"AdaBoost Classifier FB Statuses\",\n",
    " \n",
    "    parameters=[\n",
    "        dict(name=\"n_estimators\", bounds=dict(min=1,max=350), type=\"int\"),\n",
    "        dict(name=\"learning_rate\", bounds=dict(min=0.0001,max=0.1), type=\"double\")\n",
    "        ],\n",
    " \n",
    "    metrics=[\n",
    "        dict(name=\"accuracy\", objective=\"maximize\", strategy=\"optimize\")\n",
    "        ],\n",
    " \n",
    "    observation_budget = 20,\n",
    ")\n",
    " \n",
    "print(\"Explore your experiment: https://app.sigopt.com/experiment/\" + experiment.id + \"/analysis\")"
   ]
  },
  {
   "cell_type": "code",
   "execution_count": null,
   "metadata": {},
   "outputs": [],
   "source": [
    "#Optimization Loop, still SigOpt stuff\n",
    "for _ in range(experiment.observation_budget):\n",
    "    suggestion = conn.experiments(experiment.id).suggestions().create()\n",
    "    assignments = suggestion.assignments\n",
    "    value = evaluate_model(assignments)\n",
    "    conn.experiments(experiment.id).observations().create(\n",
    "        suggestion=suggestion.id,\n",
    "        value=value\n",
    "    )\n",
    "    #update experiment object\n",
    "    experiment = conn.experiments(experiment.id).fetch()\n",
    "assignments = conn.experiments(experiment.id).best_assignments().fetch().data[0].assignments  \n",
    "print(\"BEST ASSIGNMENTS \\n\", assignments)"
   ]
  },
  {
   "cell_type": "code",
   "execution_count": 18,
   "metadata": {},
   "outputs": [
    {
     "data": {
      "text/plain": [
       "AdaBoostClassifier(learning_rate=0.01, n_estimators=157, random_state=42)"
      ]
     },
     "execution_count": 18,
     "metadata": {},
     "output_type": "execute_result"
    }
   ],
   "source": [
    "# So you haven't signed up for SigOpt yet, but you can still do this.\n",
    "# Create a classifier with your choice of parameters and train it on the training set.\n",
    "clas = AdaBoostClassifier(n_estimators=157, learning_rate=0.01, random_state=42)\n",
    "clas.fit(X_train, y_train)"
   ]
  },
  {
   "cell_type": "code",
   "execution_count": 19,
   "metadata": {},
   "outputs": [
    {
     "name": "stdout",
     "output_type": "stream",
     "text": [
      "AdaBoost got the following accuracy on the test set: 0.7575498575498576\n"
     ]
    }
   ],
   "source": [
    "# Predict the test set and calculate the accuracy\n",
    "scores = cross_val_score(clas, X_test, y_test)\n",
    "print(f'AdaBoost got the following accuracy on the test set: {np.mean(scores)}') "
   ]
  }
 ],
 "metadata": {
  "interpreter": {
   "hash": "a48d9d053714610228810daee29d7e6495965b4559be13f38b312ece0e7deaf4"
  },
  "kernelspec": {
   "display_name": "Python 3.9.7 ('base')",
   "language": "python",
   "name": "python3"
  },
  "language_info": {
   "codemirror_mode": {
    "name": "ipython",
    "version": 3
   },
   "file_extension": ".py",
   "mimetype": "text/x-python",
   "name": "python",
   "nbconvert_exporter": "python",
   "pygments_lexer": "ipython3",
   "version": "3.9.7"
  },
  "orig_nbformat": 4
 },
 "nbformat": 4,
 "nbformat_minor": 2
}
